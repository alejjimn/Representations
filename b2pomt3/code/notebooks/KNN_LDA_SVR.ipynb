{
 "cells": [
  {
   "cell_type": "code",
   "execution_count": 5,
   "metadata": {},
   "outputs": [],
   "source": [
    "import sys\n",
    "sys.path.append('../')\n",
    "\n",
    "import numpy as np\n",
    "from sklearn.decomposition import PCA\n",
    "from dataset.omsignal_dataset import OMSignalDataset\n",
    "from sklearn.neighbors import KNeighborsClassifier\n",
    "from sklearn.neighbors import KNeighborsRegressor\n",
    "from sklearn.discriminant_analysis import LinearDiscriminantAnalysis\n",
    "from sklearn.svm import SVR\n",
    "from sklearn.svm import SVC\n",
    "from sklearn.discriminant_analysis import QuadraticDiscriminantAnalysis\n",
    "from sklearn.gaussian_process import GaussianProcessClassifier\n",
    "from sklearn.gaussian_process.kernels import RBF\n",
    "from sklearn.ensemble import RandomForestClassifier, AdaBoostClassifier,GradientBoostingClassifier\n",
    "from sklearn.naive_bayes import GaussianNB\n",
    "\n",
    "from torchvision.transforms import Compose\n",
    "from dataset.preprocessor import Preprocessor\n",
    "from dataset.segmenter import PairedHeartBeatSegmenter,HeartBeatSegmenter\n",
    "from dataset.normalize_transform import Normalize\n",
    "from dataset.to_float_tensor_transform import ToFloatTensorTransform\n",
    "\n",
    "from scipy.stats import kendalltau, mode\n",
    "from sklearn.metrics import accuracy_score\n",
    "from utils.pickle_model import save_model,load_model\n",
    "\n",
    "import matplotlib.pyplot as plt"
   ]
  },
  {
   "cell_type": "code",
   "execution_count": 6,
   "metadata": {},
   "outputs": [],
   "source": [
    "TRAIN_UNLABELED_PATH = \"/rap/jvb-000-aa/COURS2019/etudiants/data/omsignal/myHeartProject/MILA_UnlabeledData.dat\"\n",
    "TRAIN_LABELED_PATH = \"/rap/jvb-000-aa/COURS2019/etudiants/data/omsignal/myHeartProject/MILA_TrainLabeledData.dat\"\n",
    "VALID_LABELED_PATH = \"/rap/jvb-000-aa/COURS2019/etudiants/data/omsignal/myHeartProject/MILA_ValidationLabeledData.dat\"\n",
    "\n",
    "SEG_TRAIN_UNLABELED = \"/rap/jvb-000-aa/COURS2019/etudiants/submissions/b2pomt3/OMSignal_SegmentedData_Backup_2.dat\"\n",
    "SEG_TRAIN_LABELED = \"/rap/jvb-000-aa/COURS2019/etudiants/submissions/b2pomt3/OMSignal_Single_TrainLabeledData.dat\"\n",
    "SEG_VALID_LABELED = \"/rap/jvb-000-aa/COURS2019/etudiants/submissions/b2pomt3/OMSignal_Single_ValidationLabeledData.dat\"\n",
    "\n",
    "TRAIN_PSEUDOLABELED_PATH = \"/rap/jvb-000-aa/COURS2019/etudiants/data/omsignal/myHeartProject/OMSignal_TrainPseudoLabeledData.dat\"\n",
    "\n",
    "SAVE_PATH = \"./results/\""
   ]
  },
  {
   "cell_type": "code",
   "execution_count": 10,
   "metadata": {},
   "outputs": [],
   "source": [
    "transform = Compose([Preprocessor(),\n",
    "                     PairedHeartBeatSegmenter(230,take_average=True)])\n",
    "\n",
    "\n",
    "# train_labeled_data = OMSignalDataset(True,True,SEG_TRAIN_LABELED)\n",
    "# valid_labeled_data = OMSignalDataset(True,True,SEG_VALID_LABELED)\n",
    "\n",
    "train_labeled_data = OMSignalDataset(False,True,TRAIN_LABELED_PATH,transform )\n",
    "valid_labeled_data = OMSignalDataset(False,True,VALID_LABELED_PATH,transform )\n",
    "\n",
    "# train_x = train_labeled_data.data[:,:-4]\n",
    "# train_y = train_labeled_data.data[:,-4:]\n",
    "\n",
    "# valid_x = valid_labeled_data.data[:,:-4]\n",
    "# valid_y = valid_labeled_data.data[:,-4:]\n",
    "\n",
    "train_x=np.empty((160,230))\n",
    "train_y=np.empty((160,4))\n",
    "\n",
    "valid_x=np.empty((160,230))\n",
    "valid_y=np.empty((160,4))\n",
    "\n",
    "for i in range(160):\n",
    "    ecg , target = train_labeled_data[i]\n",
    "    train_x[i,:] = np.array(ecg)\n",
    "    train_y[i] = target\n",
    "    \n",
    "    ecg2 , target2 = valid_labeled_data[i]\n",
    "    valid_x[i,:] = np.array(ecg2)\n",
    "    valid_y[i] = target2\n",
    "\n",
    "    \n",
    "\n"
   ]
  },
  {
   "cell_type": "code",
   "execution_count": 12,
   "metadata": {},
   "outputs": [],
   "source": [
    "pca = PCA(n_components=30)\n",
    "pca.fit(train_x)\n",
    "\n",
    "transformed_train_x = pca.transform(train_x)\n",
    "transformed_valid_x = pca.transform(valid_x)\n",
    "# transformed_train_x = train_x\n",
    "# transformed_valid_x = valid_x"
   ]
  },
  {
   "cell_type": "code",
   "execution_count": 9,
   "metadata": {},
   "outputs": [
    {
     "name": "stdout",
     "output_type": "stream",
     "text": [
      "ID: 0.7875\n"
     ]
    }
   ],
   "source": [
    "model_ID = LinearDiscriminantAnalysis()\n",
    "model_ID.fit(transformed_train_x, train_y[:,3]) \n",
    "y_pred = model_ID.predict(transformed_valid_x)\n",
    "print(\"ID: \" + str(accuracy_score(valid_y[:,3],y_pred)))\n",
    "\n",
    "save_model(model_ID,\"./results/ID_model.pkl\")"
   ]
  },
  {
   "cell_type": "code",
   "execution_count": null,
   "metadata": {},
   "outputs": [],
   "source": [
    "model_PR = SVR(gamma='scale', C=1.0, epsilon=0.2)\n",
    "model_PR.fit(transformed_train_x, train_y[:,0]) \n",
    "y_pred = model_PR.predict(transformed_valid_x)\n",
    "print(\"PR: \" + str(kendalltau(valid_y[:,0],y_pred)))"
   ]
  },
  {
   "cell_type": "code",
   "execution_count": null,
   "metadata": {},
   "outputs": [],
   "source": [
    "model_RT = SVR(gamma='scale', C=1.0, epsilon=0.2)\n",
    "model_RT.fit(transformed_train_x, train_y[:,1]) \n",
    "y_pred = model_RT.predict(transformed_valid_x)\n",
    "print(\"RT: \" + str(kendalltau(valid_y[:,1],y_pred)))"
   ]
  },
  {
   "cell_type": "code",
   "execution_count": 13,
   "metadata": {},
   "outputs": [
    {
     "name": "stdout",
     "output_type": "stream",
     "text": [
      "RR: KendalltauResult(correlation=0.7074963643974111, pvalue=3.108226821821746e-40)\n"
     ]
    }
   ],
   "source": [
    "model_RR = SVR(gamma='scale', C=1.0, epsilon=0.2)\n",
    "model_RR.fit(transformed_train_x, train_y[:,2]) \n",
    "y_pred = model_RR.predict(transformed_valid_x)\n",
    "print(\"RR: \" + str(kendalltau(valid_y[:,2],y_pred)))\n",
    "\n",
    "save_model(model_ID,\"./results/RR_model.pkl\")"
   ]
  },
  {
   "cell_type": "code",
   "execution_count": null,
   "metadata": {},
   "outputs": [],
   "source": [
    "plt.plot(train_x[0,:])"
   ]
  },
  {
   "cell_type": "code",
   "execution_count": null,
   "metadata": {},
   "outputs": [],
   "source": [
    "model_PR = SVR(gamma='scale', C=1.0, epsilon=0.2)\n",
    "model_PR.fit(transformed_train_x, train_y[:,0]) \n",
    "y_pred = model_PR.predict(transformed_valid_x)\n",
    "print(\"PR: \" + str(kendalltau(valid_y[:,0],y_pred)))"
   ]
  },
  {
   "cell_type": "code",
   "execution_count": null,
   "metadata": {},
   "outputs": [],
   "source": []
  }
 ],
 "metadata": {
  "kernelspec": {
   "display_name": "Python 3",
   "language": "python",
   "name": "python3"
  },
  "language_info": {
   "codemirror_mode": {
    "name": "ipython",
    "version": 3
   },
   "file_extension": ".py",
   "mimetype": "text/x-python",
   "name": "python",
   "nbconvert_exporter": "python",
   "pygments_lexer": "ipython3",
   "version": "3.6.8"
  }
 },
 "nbformat": 4,
 "nbformat_minor": 2
}
