{
 "cells": [
  {
   "cell_type": "code",
   "execution_count": 2,
   "metadata": {},
   "outputs": [],
   "source": [
    "import sys\n",
    "sys.path.append('../')\n",
    "\n",
    "from dataset.omsignal_dataset import OMSignalDataset\n",
    "from torchvision.transforms import Compose\n",
    "from dataset.preprocessor import Preprocessor\n",
    "from dataset.segmenter import PairedHeartBeatSegmenter,HeartBeatSegmenter\n",
    "from models.multi_task_model import MultiTaskNet\n",
    "from models.multi_task_predictions import multi_task_predict\n",
    "from utils.memfile_utils import write_memfile\n",
    "from utils.ids_conversion import convert_back_ids,convert_ids\n",
    "\n",
    "\n",
    "from utils.pickle_model import save_model,load_model"
   ]
  },
  {
   "cell_type": "code",
   "execution_count": 3,
   "metadata": {},
   "outputs": [
    {
     "ename": "SyntaxError",
     "evalue": "EOL while scanning string literal (<ipython-input-3-ab8f7f52c27a>, line 12)",
     "traceback": [
      "\u001b[0;36m  File \u001b[0;32m\"<ipython-input-3-ab8f7f52c27a>\"\u001b[0;36m, line \u001b[0;32m12\u001b[0m\n\u001b[0;31m    model_filename = \"./results/\u001b[0m\n\u001b[0m                                ^\u001b[0m\n\u001b[0;31mSyntaxError\u001b[0m\u001b[0;31m:\u001b[0m EOL while scanning string literal\n"
     ],
     "output_type": "error"
    }
   ],
   "source": [
    "TRAIN_UNLABELED_PATH = \"/rap/jvb-000-aa/COURS2019/etudiants/data/omsignal/myHeartProject/MILA_UnlabeledData.dat\"\n",
    "TRAIN_LABELED_PATH = \"/rap/jvb-000-aa/COURS2019/etudiants/data/omsignal/myHeartProject/MILA_TrainLabeledData.dat\"\n",
    "VALID_LABELED_PATH = \"/rap/jvb-000-aa/COURS2019/etudiants/data/omsignal/myHeartProject/MILA_ValidationLabeledData.dat\"\n",
    "\n",
    "SEG_TRAIN_UNLABELED = \"/rap/jvb-000-aa/COURS2019/etudiants/submissions/b2pomt3/OMSignal_SegmentedData_Backup_2.dat\"\n",
    "SEG_TRAIN_LABELED = \"/rap/jvb-000-aa/COURS2019/etudiants/submissions/b2pomt3/OMSignal_Single_TrainLabeledData.dat\"\n",
    "SEG_VALID_LABELED = \"/rap/jvb-000-aa/COURS2019/etudiants/submissions/b2pomt3/OMSignal_Single_ValidationLabeledData.dat\"\n",
    "\n",
    "TRAIN_PSEUDOLABELED_PATH = \"/rap/jvb-000-aa/COURS2019/etudiants/data/omsignal/myHeartProject/OMSignal_TrainPseudoLabeledData.dat\"\n",
    "\n",
    "SAVE_PATH = \"./results/\"\n",
    "model_filename = \"./results/"
   ]
  },
  {
   "cell_type": "code",
   "execution_count": null,
   "metadata": {},
   "outputs": [],
   "source": [
    "DEVICE = torch.device(\"cuda:0\" if torch.cuda.is_available() else \"cpu\")\n",
    "model = MultiTaskNet(230, 1, 35, 30)\n",
    "model.load_state_dict(torch.load(model_filename),map_location=DEVICE)\n",
    "\n",
    "test_transforms = Compose([Preprocessor(),\n",
    "                           PairedHeartBeatSegmenter(230)\n",
    "                           ])\n",
    "\n",
    "test_data = OMSignalDataset(True, True,SEG_VALID_LABELED, test_transforms)\n",
    "\n",
    "y_pred, true_labels = multi_task_predict(model, test_data)\n",
    "y_pred[:, -1] = convert_back_ids(y_pred[:, -1])"
   ]
  }
 ],
 "metadata": {
  "kernelspec": {
   "display_name": "Python 3",
   "language": "python",
   "name": "python3"
  },
  "language_info": {
   "codemirror_mode": {
    "name": "ipython",
    "version": 3
   },
   "file_extension": ".py",
   "mimetype": "text/x-python",
   "name": "python",
   "nbconvert_exporter": "python",
   "pygments_lexer": "ipython3",
   "version": "3.6.8"
  }
 },
 "nbformat": 4,
 "nbformat_minor": 2
}
