{
 "cells": [
  {
   "cell_type": "markdown",
   "metadata": {},
   "source": [
    "# 2. Hyperparameter Search"
   ]
  },
  {
   "cell_type": "markdown",
   "metadata": {},
   "source": [
    "## Importing Mnist dataset"
   ]
  },
  {
   "cell_type": "markdown",
   "metadata": {},
   "source": [
    "### Importing libraries"
   ]
  },
  {
   "cell_type": "code",
   "execution_count": 1,
   "metadata": {},
   "outputs": [],
   "source": [
    "import numpy as np\n",
    "import math"
   ]
  },
  {
   "cell_type": "markdown",
   "metadata": {},
   "source": [
    "### Charging data"
   ]
  },
  {
   "cell_type": "code",
   "execution_count": 2,
   "metadata": {},
   "outputs": [],
   "source": [
    "# Charging and shuffling training data\n",
    "import csv\n",
    "def get_ds(ds_file):\n",
    "    '''Open train and test datasets, read them and, store their records to a list'''\n",
    "    with open (ds_file, 'r') as t_file:\n",
    "        ds = csv.reader(t_file)\n",
    "        records = []\n",
    "        for line in ds:\n",
    "            records.append([float(i) for i in line]) # list comprehension to convert lists' strings to ints on the fly        \n",
    "    return records"
   ]
  },
  {
   "cell_type": "code",
   "execution_count": 3,
   "metadata": {},
   "outputs": [],
   "source": [
    "# get our datasets\n",
    "train_data = get_ds('data/train_x.csv')\n",
    "train_labels=get_ds('data/train_y.csv')\n",
    "test_data=get_ds('data/test_x.csv')\n",
    "test_labels = get_ds('data/test_y.csv')\n",
    "valid_data=get_ds('data/val_x.csv')\n",
    "valid_labels = get_ds('data/val_y.csv')"
   ]
  },
  {
   "cell_type": "code",
   "execution_count": 4,
   "metadata": {},
   "outputs": [],
   "source": [
    "X_train=np.asarray(train_data)\n",
    "Y_train=np.asarray(train_labels)\n",
    "X_test=np.asarray(test_data)\n",
    "Y_test=np.asarray(test_labels)\n",
    "X_valid=np.asarray(valid_data)\n",
    "Y_valid=np.asarray(valid_labels)"
   ]
  },
  {
   "cell_type": "markdown",
   "metadata": {},
   "source": [
    "### Data Normalization "
   ]
  },
  {
   "cell_type": "code",
   "execution_count": 5,
   "metadata": {},
   "outputs": [],
   "source": [
    "x_train = np.trunc(X_train/255).astype(int)\n",
    "x_valid = np.trunc(X_valid/255).astype(int)\n",
    "x_test = np.trunc(X_test/255).astype(int)\n",
    "y_train = np.trunc(Y_train).astype(int)\n",
    "y_valid = np.trunc(Y_valid).astype(int)\n",
    "y_test = np.trunc(Y_test).astype(int)"
   ]
  },
  {
   "cell_type": "code",
   "execution_count": 6,
   "metadata": {},
   "outputs": [
    {
     "name": "stdout",
     "output_type": "stream",
     "text": [
      "(50000, 784) (50000, 1)\n",
      "(10000, 784) (10000, 1)\n",
      "(10000, 784) (10000, 1)\n"
     ]
    }
   ],
   "source": [
    "print(x_train.shape,y_train.shape)\n",
    "print(x_valid.shape,y_valid.shape)\n",
    "print(x_test.shape,y_test.shape)"
   ]
  },
  {
   "cell_type": "markdown",
   "metadata": {},
   "source": [
    "### Dataset test:  \n",
    "#### Printing the first 3 labels and 3 entries in the training set to validate they match the labels"
   ]
  },
  {
   "cell_type": "code",
   "execution_count": 7,
   "metadata": {},
   "outputs": [
    {
     "name": "stdout",
     "output_type": "stream",
     "text": [
      "Label = [5.0]\n"
     ]
    },
    {
     "data": {
      "image/png": "[encoded data removed]",
      "text/plain": [
       "<Figure size 432x288 with 1 Axes>"
      ]
     },
     "metadata": {
      "needs_background": "light"
     },
     "output_type": "display_data"
    },
    {
     "name": "stdout",
     "output_type": "stream",
     "text": [
      "Label = [0.0]\n"
     ]
    },
    {
     "data": {
      "image/png": "[encoded data removed]",
      "text/plain": [
       "<Figure size 432x288 with 1 Axes>"
      ]
     },
     "metadata": {
      "needs_background": "light"
     },
     "output_type": "display_data"
    },
    {
     "name": "stdout",
     "output_type": "stream",
     "text": [
      "Label = [4.0]\n"
     ]
    },
    {
     "data": {
      "image/png": "[encoded data removed]",
      "text/plain": [
       "<Figure size 432x288 with 1 Axes>"
      ]
     },
     "metadata": {
      "needs_background": "light"
     },
     "output_type": "display_data"
    }
   ],
   "source": [
    "import numpy as np\n",
    "import matplotlib.pyplot as plt\n",
    "%matplotlib inline\n",
    "#reshape gives a new shape to an array without changing its data.\n",
    "for i in range(0,3):\n",
    "    trainsetmtx = np.reshape(train_data[i], (28,28))\n",
    "    imgplot = plt.imshow(trainsetmtx, cmap=plt.cm.get_cmap(\"gray_r\"))\n",
    "    print ('Label = %s' % train_labels[i]), plt.show()"
   ]
  },
  {
   "cell_type": "markdown",
   "metadata": {},
   "source": [
    "## Neural Network Implementation"
   ]
  },
  {
   "cell_type": "code",
   "execution_count": 8,
   "metadata": {},
   "outputs": [],
   "source": [
    "import random\n",
    "import numpy as np\n",
    "import matplotlib.pyplot as plt\n",
    "%matplotlib inline"
   ]
  },
  {
   "cell_type": "code",
   "execution_count": 9,
   "metadata": {},
   "outputs": [],
   "source": [
    "#This class implementation is inspired from the NN implemented in cours IFT6093\n",
    "class NN(object):\n",
    "    \n",
    "    \n",
    "    def __init__(self, input_dim, output_dim,hidden_dims=(1024,2048),n_hidden=2, initialization='zeros', mode=',train',\n",
    "                 datapath=None,model_path=None):\n",
    "        \n",
    "        self.indim = input_dim\n",
    "        self.hd1 = hidden_dims[0] \n",
    "        self.hd2 = hidden_dims[1]\n",
    "        self.n_hidden = n_hidden\n",
    "        self.outd = output_dim\n",
    "        self.W1 = np.zeros(shape=(hidden_dims[0], input_dim))\n",
    "        #print('W1.shape =', self.W1.shape)\n",
    "        #print('W1 = ', self.W1)\n",
    "        #print('\\n')\n",
    "        \n",
    "        self.b1 = np.zeros(hidden_dims[0])\n",
    "        #print('b1.shape =', self.b1.shape)\n",
    "        #print('b1 = ', self.b1)\n",
    "        #print('\\n')\n",
    "        \n",
    "        self.W2 = np.zeros(shape=(hidden_dims[1], hidden_dims[0]))\n",
    "        #print('W2.shape =', self.W2.shape)\n",
    "        #print('W2 = ', self.W2)\n",
    "        #print('\\n')\n",
    "        \n",
    "        self.b2 = np.zeros(hidden_dims[1])\n",
    "        #print('b2.shape =', self.b2.shape)\n",
    "        #print('b2 = ', self.b2)\n",
    "        #print('\\n')\n",
    "        \n",
    "        self.W3 = np.zeros(shape=(output_dim, hidden_dims[1]))\n",
    "        #print('W3.shape =', self.W3.shape)\n",
    "        #print('W3 = ', self.W3)\n",
    "        #print('\\n')\n",
    "        \n",
    "        self.b3 = np.zeros(output_dim)\n",
    "        #print('b3.shape =', self.b3.shape)\n",
    "        #print('b3 = ', self.b3)\n",
    "        #print('\\n')\n",
    "        \n",
    "        if initialization=='normal':\n",
    "            self.initialize_weights_normal()\n",
    "            #print('W1 = ', self.W1)\n",
    "            #print('W2 = ', self.W2)\n",
    "            #print('W3 = ', self.W3)\n",
    "            \n",
    "            \n",
    "        if initialization=='glorot':\n",
    "            self.initialize_weights_glorot()\n",
    "            #print('W1 = ', self.W1)\n",
    "            #print('W2 = ', self.W2)\n",
    "            #print('W3 = ', self.W3)\n",
    "            \n",
    "        \n",
    "        self.parameters = [self.W3, self.b3, self.W2, self.b2, self.W1, self.b1]\n",
    "        \n",
    "        \n",
    "    def initialize_weights_normal(self):\n",
    "        \n",
    "        self.W1 = np.random.standard_normal(size=(self.hd1, self.indim))\n",
    "        self.W2 = np.random.standard_normal(size=(self.hd2, self.hd1))\n",
    "        self.W3 = np.random.standard_normal(size=(self.outd, self.hd2))\n",
    "        \n",
    "        return self\n",
    "    \n",
    "    \n",
    "    def initialize_weights_glorot(self):\n",
    "        \n",
    "        dl1 = np.sqrt(6/(self.indim + self.hd1))\n",
    "        dl2 = np.sqrt(6/(self.hd1 + self.hd2))\n",
    "        dl3 = np.sqrt(6/(self.hd2 + self.outd))\n",
    "        self.W1 = np.random.uniform(low=(-dl1), high=dl1, size=(self.hd1, self.indim))\n",
    "        self.W2 = np.random.uniform(low=(-dl2), high=dl2, size=(self.hd2, self.hd1))\n",
    "        self.W3 = np.random.uniform(low=(-dl3), high=dl3, size=(self.outd, self.hd2))\n",
    "        \n",
    "        return self\n",
    "        \n",
    "        \n",
    "        \n",
    "    #Method inspired from NN implemented in cours IFT6093\n",
    "    def activation (self,input):\n",
    "        return (input > 0) * input  \n",
    "    \n",
    "    #line 85\n",
    "\n",
    "    def forward(self,x):\n",
    "        #print('forward')\n",
    "        \n",
    "        a1 = np.dot (self.W1, x) + self.b1 \n",
    "        #print('a1 = np.dot (self.W1, x) + self.b1')\n",
    "        #print('a1.shape =', a1.shape)\n",
    "        #print('a1 = ', a1)\n",
    "        #print('\\n')\n",
    "        \n",
    "        h1 = self.activation (a1)\n",
    "        #print('h1 = self.activation (a1)')\n",
    "        #print('h1.shape =', h1.shape)\n",
    "        #print('h1 = ', h1)\n",
    "        #print('\\n')\n",
    "        \n",
    "        a2 = np.dot (self.W2, h1) + self.b2\n",
    "        #print('a2 = np.dot (self.W2, h1) + self.b2')\n",
    "        #print('a2.shape =', a2.shape)\n",
    "        #print('a2 = ', a2)\n",
    "        #print('\\n')\n",
    "        \n",
    "        h2 = self.activation (a2)\n",
    "        #print('h2 = self.activation (a2)')\n",
    "        #print('h2.shape =', h2.shape)\n",
    "        #print('h2 = ', h2)\n",
    "        #print('\\n')\n",
    "        \n",
    "    \n",
    "        oa = np.dot (self.W3, h2) + self.b3\n",
    "        #print('oa = np.dot (self.W3, h2) + self.b3')\n",
    "        #print('oa.shape =', oa.shape)\n",
    "        #print('oa = ', oa)\n",
    "        #print('\\n')\n",
    "        \n",
    "        os = self.softmax (oa, axis=0)\n",
    "        #print('os = softmax (oa)')\n",
    "        #print('os.shape =', os.shape)\n",
    "        #print('os = ', os)\n",
    "        #print('\\n')\n",
    "               \n",
    "        return a1, h1, a2, h2, oa, os\n",
    "    \n",
    "    \n",
    "\n",
    "    #Methods inspired from NN implemented in cours IFT6093\n",
    "    def loss (self, y, os):\n",
    "        return (y * (-np.log(os))).sum()\n",
    "    \n",
    "\n",
    "    def softmax (self,x,axis=1):\n",
    "        shiftx = x - np.max (x, axis=axis, keepdims=True)\n",
    "        exps = np.exp (shiftx)\n",
    "        y = exps / exps.sum (axis=axis, keepdims=True)\n",
    "        return y\n",
    "\n",
    "\n",
    "    def backward(self, x, y, a1, h1, a2, h2, oa, os, weight_decay=0, cache=None):\n",
    "        #print ('backward')\n",
    "        #print('x.shape = ', x.shape)\n",
    "        #print('y.shape = ', y.shape)\n",
    "        #print('os.shape = ', os.shape)\n",
    "        grad_oa = os - y\n",
    "        #print('grad_oa.shape =', grad_oa.shape)\n",
    "        #print('\\n')\n",
    "        \n",
    "        grad_W3 = np.outer (grad_oa, h2) + weight_decay * self.W3\n",
    "        #print('grad_W3.shape =', grad_W3.shape)\n",
    "        #print('\\n')\n",
    "        \n",
    "        grad_b3 = grad_oa\n",
    "        #print('grad_b3.shape =', grad_b3.shape)\n",
    "        #print('\\n')\n",
    "        \n",
    "        grad_h2 = np.dot (self.W3.T, grad_oa)\n",
    "        #print(' grad_h2.shape =', grad_h2.shape)\n",
    "        #print('\\n')\n",
    "        \n",
    "        grad_a2 = (a2 > 0) * grad_h2\n",
    "        #print('grad_a2.shape =', grad_a2.shape)\n",
    "        #print('\\n')\n",
    "        \n",
    "        grad_W2 = np.outer (grad_a2, h1) + weight_decay * self.W2\n",
    "        #print('grad_W2.shape =', grad_W2.shape)\n",
    "        #print('\\n')\n",
    "        \n",
    "        grad_b2 = grad_a2 \n",
    "        #print('grad_b2.shape =', grad_b2.shape)\n",
    "        #print('\\n')\n",
    "        \n",
    "        grad_h1 = np.dot (self.W2.T, grad_a2)\n",
    "        #print('grad_h1.shape =', grad_h1.shape)\n",
    "        #print('\\n')\n",
    "        \n",
    "        grad_a1 = (a1 > 0) * grad_h1\n",
    "        #print('grad_a1.shape =', grad_a1.shape)\n",
    "        #print('\\n')\n",
    "        \n",
    "        grad_W1 = np.outer (grad_a1, x) + weight_decay * self.W1\n",
    "        #print('grad_W1.shape =', grad_W1.shape)\n",
    "        #print('\\n')\n",
    "        \n",
    "        grad_b1 = grad_a1\n",
    "        #print('grad_b1.shape =', grad_b1.shape)\n",
    "        #print('\\n')\n",
    "        \n",
    "        grads=[grad_W3, grad_b3, grad_W2, grad_b2, grad_W1, grad_b1]\n",
    "   \n",
    "        return grads\n",
    "\n",
    "\n",
    "\n",
    "    def update(self, grads, learning_rate):\n",
    "        for p, grad in zip(self.parameters, grads):\n",
    "            p -= learning_rate * grad\n",
    "        \n",
    "    #line 201   \n",
    "\n",
    "    def train_SGD(self, x, y_onehot, n, learning_rate=1e-1, weight_decay=0):\n",
    "        y= y_onehot\n",
    "        #print('x.shape = ', x.shape)\n",
    "        #print('y.shape = ', y.shape)\n",
    "        losses = 0\n",
    "        if (n==1):\n",
    "            a1, h1, a2, h2, oa, os = self.forward(x)\n",
    "            grads = self.backward(x, y, a1, h1, a2, h2, oa, os)\n",
    "            self.update(grads, learning_rate)\n",
    "            loss = self.loss(y, os)\n",
    "            losses += loss  \n",
    "            average_loss = losses / n\n",
    "        else:    \n",
    "            for j in range(x.shape[0]):\n",
    "                a1, h1, a2, h2, oa, os = self.forward(x[j])\n",
    "                grads = self.backward(x[j], y[j], a1, h1, a2, h2, oa, os)\n",
    "                self.update(grads, learning_rate)\n",
    "                loss = self.loss(y[j], os)\n",
    "                losses += loss \n",
    "                \n",
    "            average_loss = losses / n\n",
    "            #print (average_loss)\n",
    "\n",
    "        #print (average_loss)   \n",
    "        return average_loss\n",
    "    \n",
    "    \n",
    "    def prediction_SGD (self, x):\n",
    "        predictions = np.zeros(x.shape[0])\n",
    "        for i in range(x.shape[0]):\n",
    "            _, _, _, _, _, os = self.forward(x[i])\n",
    "            predictions[i] = os.argmax()\n",
    "            \n",
    "        return predictions\n",
    "    \n",
    "    def accuracy_SGD (self, prediction, y):\n",
    "        accuracies=0\n",
    "        for i in range (y.shape[0]):\n",
    "            accuracies+=(prediction[i]==y[i])\n",
    "            \n",
    "        return accuracies / y.shape[0]\n",
    "    \n",
    "    \n",
    "    def test_SGD(self, x, y_onehot, y):\n",
    "        pred=np.zeros(y.shape[0])\n",
    "        avg_loss=0\n",
    "        for i in range (x.shape[0]):\n",
    "            _, _, _, _, _, os = self.forward(x[i])\n",
    "            loss=self.loss (y_onehot[i], os)\n",
    "            avg_loss+=loss\n",
    "            pred[i]=os.argmax()\n",
    "            \n",
    "        accuracy=self.accuracy_SGD(pred, y)    \n",
    "        return avg_loss / x.shape[0] , accuracy\n",
    "    \n",
    "   \n",
    "    def forward_mbatch(self, x):\n",
    "        #print ('forward minibtach')\n",
    "        a1 = np.dot ( x, self.W1.T) + self.b1 \n",
    "        #print('a1 = np.dot (x, self.W1.T) + self.b1')\n",
    "        #print('a1.shape =', a1.shape)\n",
    "        #print('a1 = ', a1)\n",
    "        #print('\\n')\n",
    "        \n",
    "        h1 = self.activation (a1)\n",
    "        #print('h1 = self.activation (a1)')\n",
    "        #print('h1.shape =', h1.shape)\n",
    "        #print('h1 = ', h1)\n",
    "        #print('\\n')\n",
    "        \n",
    "        a2 = np.dot (h1, self.W2.T) + self.b2\n",
    "        #print('a2 = np.dot (h1, self.W2.T) + self.b2')\n",
    "        #print('a2.shape =', a2.shape)\n",
    "        #print('a2 = ', a2)\n",
    "        #print('\\n')\n",
    "        \n",
    "        h2 = self.activation (a2)\n",
    "        #print('h2 = self.activation (a2)')\n",
    "        #print('h2.shape =', h2.shape)\n",
    "        #print('h2 = ', h2)\n",
    "        #print('\\n')\n",
    "        \n",
    "        oa = np.dot (h2, self.W3.T) + self.b3\n",
    "        #print('oa = np.dot (h2, self.W3.T) + self.b3')\n",
    "        #print('oa.shape =', oa.shape)\n",
    "        #print('oa = ', oa)\n",
    "        #print('\\n')\n",
    "        \n",
    "        os = self.softmax (oa, axis=1)\n",
    "        #print('os = softmax (oa)')\n",
    "        #print('os.shape =', os.shape)\n",
    "        #print('os = ', os)\n",
    "        #print('\\n')\n",
    "               \n",
    "        return a1, h1, a2, h2, oa, os\n",
    "    \n",
    "    #line 303\n",
    "        \n",
    "    def backward_mbatch(self, x, y, a1, h1, a2, h2, oa, os, batch_n, weight_decay=0):\n",
    "        #print ('backward minibatch')\n",
    "        \n",
    "        #print('x.shape = ', x.shape)\n",
    "        #print('y.shape = ', y.shape)\n",
    "        #print('os.shape = ', os.shape)\n",
    "        \n",
    "        \n",
    "        batch_n = x.shape[0]\n",
    "        bgrad_oa = os - y\n",
    "        #print('bgrad_oa.shape =', bgrad_oa.shape)\n",
    "        #print('\\n')\n",
    "        \n",
    "        bgrad_W3 = np.dot (bgrad_oa.T, h2) / batch_n  + weight_decay * self.W3\n",
    "        #print('bgrad_W3.shape =', bgrad_W3.shape)\n",
    "        #print('\\n')\n",
    "        \n",
    "        bgrad_b3 = bgrad_oa.mean(axis=0)\n",
    "        #print('bgrad_b3.shape =', bgrad_b3.shape)\n",
    "        #print('\\n')\n",
    "        \n",
    "        bgrad_h2 = np.dot (bgrad_oa, self.W3)\n",
    "        #print(' bgrad_h2.shape =', bgrad_h2.shape)\n",
    "        #print('\\n')\n",
    "        \n",
    "        bgrad_a2 = (a2 > 0) * bgrad_h2\n",
    "        #print('bgrad_a2.shape =', bgrad_a2.shape)\n",
    "        #print('\\n')\n",
    "        \n",
    "        bgrad_W2 = np.dot (bgrad_a2.T, h1) / batch_n  + weight_decay * self.W2\n",
    "        #print('bgrad_W2.shape =', bgrad_W2.shape)\n",
    "        #print('\\n')\n",
    "        \n",
    "        bgrad_b2 = bgrad_a2.mean(axis=0) \n",
    "        #print('bgrad_b2.shape =', bgrad_b2.shape)\n",
    "        #print('\\n')\n",
    "        \n",
    "        bgrad_h1 = np.dot (bgrad_a2, self.W2)\n",
    "        #print('bgrad_h1.shape =', bgrad_h1.shape)\n",
    "        #print('\\n')\n",
    "        \n",
    "     \n",
    "        bgrad_a1 = (a1 > 0) * bgrad_h1\n",
    "        #print('bgrad_a1.shape =', bgrad_a1.shape)\n",
    "        #print('\\n')\n",
    "        \n",
    "        bgrad_W1 = np.dot (bgrad_a1.T, x) / batch_n  + weight_decay * self.W1\n",
    "        #print('bgrad_W1.shape =', bgrad_W1.shape)\n",
    "        #print('\\n')\n",
    "        \n",
    "        bgrad_b1 = bgrad_a1.mean(axis=0)\n",
    "        #print('bgrad_b1.shape =', bgrad_b1.shape)\n",
    "        #print('\\n')\n",
    "        \n",
    "        bgrads=[bgrad_W3, bgrad_b3, bgrad_W2, bgrad_b2, bgrad_W1, bgrad_b1]\n",
    "   \n",
    "        return bgrads\n",
    "\n",
    "    #line 360\n",
    "\n",
    "    #Method taken fron homwork 3 in cours IFT6093\n",
    "    def loss_mbatch(self, os, y):\n",
    "        return (y * (-np.log(os))).sum(axis=1).mean(axis=0)     \n",
    "        \n",
    "    \n",
    "    #training with minibatch gradient decent\n",
    "    def train_mbatch(self, x, y_onehot, mb_size=100, learning_rate=1e-1, weight_decay=0):\n",
    "        average_loss=0\n",
    "        for i in range (0, x.shape[0], mb_size):\n",
    "            #print (i)\n",
    "            xi = x[i:(i+mb_size)]\n",
    "            yi = y_onehot[i:(i+mb_size)]\n",
    "        \n",
    "            losses = 0\n",
    "            a1, h1, a2, h2, oa, os = self.forward_mbatch(xi)\n",
    "            grads = self.backward_mbatch (xi, yi,a1, h1, a2, h2,oa, os, mb_size)\n",
    "            self.update(grads, learning_rate)\n",
    "            average_loss = self.loss_mbatch(os, yi) \n",
    "                          \n",
    "        return average_loss\n",
    "    \n",
    "    \n",
    "    #line 385\n",
    "    \n",
    "    def prediction_mbatch (self, x):\n",
    "        _, _, _, _, _, os = self.forward_mbatch(x)\n",
    "        return os.argmax(axis=1)\n",
    "    \n",
    "\n",
    "    def accuracy_mbatch (self, prediction, y):\n",
    "        accuracy = np.zeros(y.shape[0])\n",
    "        accuracy = prediction == y\n",
    "        return accuracy.mean(axis=0)\n",
    "    \n",
    "\n",
    "    def test_mbatch(self, x, y_onehot, y):\n",
    "        _, _, _, _, _, os = self.forward_mbatch(x)\n",
    "        loss = self.loss_mbatch (os, y_onehot)\n",
    "        accuracy=self.accuracy_mbatch (os.argmax(axis=1), y)\n",
    "        return loss, accuracy\n",
    "    \n",
    "    \n",
    "    def finite_difference():\n",
    "        \n",
    "        pass"
   ]
  },
  {
   "cell_type": "code",
   "execution_count": 10,
   "metadata": {},
   "outputs": [],
   "source": [
    "# Comment to get non-deterministic results\n",
    "np.random.seed(2)"
   ]
  },
  {
   "cell_type": "markdown",
   "metadata": {},
   "source": [
    "## Model application"
   ]
  },
  {
   "cell_type": "code",
   "execution_count": 11,
   "metadata": {},
   "outputs": [
    {
     "data": {
      "text/plain": [
       "((10000, 784), (10000, 1), (50000, 784), (50000, 1))"
      ]
     },
     "execution_count": 11,
     "metadata": {},
     "output_type": "execute_result"
    }
   ],
   "source": [
    "x_valid.shape,y_valid.shape,x_train.shape,y_train.shape"
   ]
  },
  {
   "cell_type": "code",
   "execution_count": 12,
   "metadata": {},
   "outputs": [],
   "source": [
    "def onehot(y, n_classes):\n",
    "    o = np.zeros(shape=(y.shape[0], n_classes))\n",
    "    for i in range(y.shape[0]):\n",
    "        o[i, int(y[i])] = 1\n",
    "    return o"
   ]
  },
  {
   "cell_type": "markdown",
   "metadata": {},
   "source": [
    "### Backpropagation for 1 exemple"
   ]
  },
  {
   "cell_type": "code",
   "execution_count": 13,
   "metadata": {},
   "outputs": [
    {
     "name": "stdout",
     "output_type": "stream",
     "text": [
      "a1 shape =  (500,)\n",
      "h1 shape =  (500,)\n",
      "a2 shape =  (300,)\n",
      "h2 shape =  (300,)\n",
      "oa shape =  (10,)\n",
      "os shape =  (10,)\n"
     ]
    }
   ],
   "source": [
    "# self, input_dim, output_dim,hidden_dims=(1024,2048),n_hidden=2, initialization=zeros, mode=',train',\n",
    "# datapath=None,model_path=None\n",
    "x=x_train[0]\n",
    "y=y_train[0]\n",
    "y = np.zeros(shape=(10, ))\n",
    "y[y_train[0]] = 1\n",
    "\n",
    "NN_model= NN(784, 10, hidden_dims=(500,300),initialization='glorot')\n",
    "\n",
    "a1, h1, a2, h2, oa, os = NN_model.forward(x_train[0])\n",
    "\n",
    "#self,cache, x, y,a1, h1, a2, h2, oa, os, weight_decay=0)\n",
    "grads=NN_model.backward(x, y, a1, h1, a2, h2, oa, os)\n",
    "\n",
    "print ('a1 shape = ', a1.shape)\n",
    "print ('h1 shape = ', h1.shape)\n",
    "print ('a2 shape = ', a2.shape)\n",
    "print ('h2 shape = ', h2.shape)\n",
    "print ('oa shape = ', oa.shape)\n",
    "print ('os shape = ', os.shape)"
   ]
  },
  {
   "cell_type": "code",
   "execution_count": 14,
   "metadata": {},
   "outputs": [
    {
     "name": "stdout",
     "output_type": "stream",
     "text": [
      "epoch  0  loss  2.3025850929940455\n",
      "epoch  1  loss  2.2130472649209176\n",
      "epoch  2  loss  2.125400286246365\n",
      "epoch  3  loss  2.039751468982383\n",
      "epoch  4  loss  1.956204563387701\n",
      "epoch  5  loss  1.8748581566171187\n",
      "epoch  6  loss  1.7958040494881427\n",
      "epoch  7  loss  1.7191256666613888\n",
      "epoch  8  loss  1.644896559738838\n",
      "epoch  9  loss  1.5731790633976404\n"
     ]
    }
   ],
   "source": [
    "#training 10 epoch for 1 exemple\n",
    "\n",
    "#x, y_onehot, n, learning_rate=1e-1, weight_decay=0\n",
    "epochs=10\n",
    "for epoch in range (epochs):\n",
    "    loss=NN_model.train_SGD(x, y, 1)\n",
    "    print('epoch ', epoch, ' loss ', loss)"
   ]
  },
  {
   "cell_type": "markdown",
   "metadata": {},
   "source": [
    "## Checking the best hyperparameters with validation dataset"
   ]
  },
  {
   "cell_type": "markdown",
   "metadata": {},
   "source": [
    "### Functions declaration:"
   ]
  },
  {
   "cell_type": "code",
   "execution_count": 15,
   "metadata": {},
   "outputs": [],
   "source": [
    "# Train the model using different hyperparameters, like mini-batch size, learning rate and epochs number\n",
    "# x_ds is the dataset to train, y_ds is the target dataset.\n",
    "def hyperparameter_checking(x_train_ds,y_train_ds,x_valid_ds,y_valid_ds,epochs,minibatch,learningrate,verbose=False):\n",
    "    x = x_train_ds\n",
    "    print('x.shape = ', x.shape)\n",
    "    y = y_train_ds\n",
    "    y=onehot(y,10)\n",
    "    print('y.shape = ', y.shape)\n",
    "    y_valid_onehot=onehot(y_valid_ds,10)\n",
    "    # input_dim, output_dim,hidden_dims,n_hidden=2,mode=',train',\n",
    "    # datapath=None,model_path=None\n",
    "    NN_mbatch_1= NN(784, 10, hidden_dims=(500,300),initialization='glorot')\n",
    "    loss_training_arr=[]\n",
    "    loss_validation_arr=[]\n",
    "    loss_mbatch_1=0\n",
    "    for epoch in range (epochs): \n",
    "        #x, y_onehot, mb_size=100, learning_rate=1e-1, weight_decay=0\n",
    "        loss_mbatch_1=NN_mbatch_1.train_mbatch(x, y, mb_size=minibatch,learning_rate=learningrate)\n",
    "        if verbose:\n",
    "            print('epoch ', epoch, ' loss ', loss_mbatch_1)\n",
    "        loss,accuracy=NN_mbatch_1.test_mbatch(x_valid_ds,y_valid_onehot,y_valid_ds)\n",
    "        loss_training_arr.append(loss_mbatch_1)\n",
    "        loss_validation_arr.append(loss)\n",
    "    print('epoch ', epoch, ' loss ', loss_mbatch_1)\n",
    "    return loss_training_arr,loss_validation_arr,accuracy,NN_mbatch_1 # accuracy of validation test"
   ]
  },
  {
   "cell_type": "code",
   "execution_count": 16,
   "metadata": {},
   "outputs": [],
   "source": [
    "import numpy as np\n",
    "import matplotlib.pyplot as plt\n",
    "import matplotlib.gridspec as gridspec\n",
    "\n",
    "# Display differents graphs using different hyperparameters saved in arrays.\n",
    "# Input variables are arrays with the same lenght, with the values to graph\n",
    "\n",
    "def show_graphs(minibatch_arr,epoch_arr,learningrate_arr,loss_arr):\n",
    "# define a list of markevery cases to plot\n",
    "    cases=[]\n",
    "    x_values=[]\n",
    "    y_values=[]\n",
    "    for i in range(len(minibatch_arr)):\n",
    "        cases.append([minibatch_arr[i],epoch_arr[i],learningrate_arr[i]])\n",
    "        # define the data for cartesian plots\n",
    "        x_values.append(range(epoch_arr[i]))\n",
    "        y_values.append(loss_arr[i])\n",
    "    # define the figure size and grid layout properties\n",
    "    figsize = (12, 10)\n",
    "    cols = 2\n",
    "    gs = gridspec.GridSpec(len(cases) // cols + 1, cols)\n",
    "    gs.update(hspace=0.4)\n",
    "    \n",
    "    fig1 = plt.figure(num=1, figsize=figsize)\n",
    "    ax = []\n",
    "    for i, case in enumerate(cases):\n",
    "        row = (i // cols)\n",
    "        col = i % cols\n",
    "        ax.append(fig1.add_subplot(gs[row, col]))\n",
    "        ax[-1].set_title('Minibatch=%s, Epoch=%s, Learning=%s' % (str(case[0]),str(case[1]),str(case[2])))\n",
    "        ax[-1].plot(x_values[i], y_values[i], 'o', ls='-', ms=4, markevery=1)"
   ]
  },
  {
   "cell_type": "markdown",
   "metadata": {},
   "source": [
    "## Using different hyperparameters with validation set and Glorot initialization:"
   ]
  },
  {
   "cell_type": "markdown",
   "metadata": {},
   "source": [
    "## * Changing Mini-batch size:"
   ]
  },
  {
   "cell_type": "markdown",
   "metadata": {},
   "source": [
    "### With different Mini-batch sizes, Epoch=100, Learning rate=0.1:"
   ]
  },
  {
   "cell_type": "code",
   "execution_count": 17,
   "metadata": {},
   "outputs": [],
   "source": [
    "x_ds=x_train\n",
    "y_ds=y_train\n",
    "x_valid_ds=x_valid\n",
    "y_valid_ds=y_valid"
   ]
  },
  {
   "cell_type": "code",
   "execution_count": null,
   "metadata": {},
   "outputs": [
    {
     "name": "stdout",
     "output_type": "stream",
     "text": [
      "x.shape =  (50000, 784)\n",
      "y.shape =  (50000, 10)\n"
     ]
    }
   ],
   "source": [
    "loss_arr_0=[] #training loss array\n",
    "loss_arr_valid_0=[] #valid loss array\n",
    "epoch_arr_0=[] #epoch array (save the epoch used on each mini-batch)\n",
    "acc_arr_0=[] # accuracy with validation set array \n",
    "lr_0=1e-1 #learning rate used.\n",
    "epoch_0=50 #total epoch \n",
    "for i, minibatch in enumerate([50,100,150,500]):\n",
    "    loss_array,loss_array_valid,acc_valid,nn_model=hyperparameter_checking(x_ds,y_ds,x_valid_ds,y_valid_ds,epoch_0,minibatch,lr_0)\n",
    "    loss_arr_0.append(loss_array)\n",
    "    loss_arr_valid_0.append(loss_array_valid)\n",
    "    epoch_arr_0.append(epoch_0)\n",
    "    acc_arr_0.append(acc_valid)\n",
    "    print('Accuracy: %s' % str(acc_valid))"
   ]
  },
  {
   "cell_type": "code",
   "execution_count": null,
   "metadata": {},
   "outputs": [],
   "source": [
    "epoch_arr_0=[50,50,50,50]"
   ]
  },
  {
   "cell_type": "code",
   "execution_count": null,
   "metadata": {},
   "outputs": [],
   "source": [
    "minibatch_arr=[50,100,150,500]\n",
    "fig, ax = plt.subplots(1,3,figsize=(18, 5))\n",
    "# plt.xlabel('Epoch')\n",
    "ax[2].plot(minibatch_arr, acc_arr_0, markevery=1)\n",
    "ax[2].set_xlabel('Mini-Batch')\n",
    "ax[2].set_ylabel('Accuracy')\n",
    "ax[2].set_title('Accuracy with different Mini-batch size')\n",
    "ax[2].grid(True)\n",
    "ax[0].plot(range(epoch_arr_0[3]), loss_arr_0[3], label='Mini-batch: %s' % str(minibatch_arr[3]))\n",
    "ax[0].plot(range(epoch_arr_0[2]), loss_arr_0[2], label='Mini-batch: %s' % str(minibatch_arr[2]))\n",
    "ax[0].plot(range(epoch_arr_0[1]), loss_arr_0[1], label='Mini-batch: %s' % str(minibatch_arr[1]))\n",
    "ax[0].plot(range(epoch_arr_0[0]), loss_arr_0[0], label='Mini-batch: %s' % str(minibatch_arr[0]))\n",
    "ax[0].legend()\n",
    "ax[0].set_xlabel('Epoch')\n",
    "ax[0].set_ylabel('Loss')\n",
    "ax[0].set_title('Total Loss per Epoch - Training Set')\n",
    "ax[1].plot(range(epoch_arr_0[3]), loss_arr_valid_0[3], label='Mini-batch: %s' % str(minibatch_arr[3]))\n",
    "ax[1].plot(range(epoch_arr_0[2]), loss_arr_valid_0[2], label='Mini-batch: %s' % str(minibatch_arr[2]))\n",
    "ax[1].plot(range(epoch_arr_0[1]), loss_arr_valid_0[1], label='Mini-batch: %s' % str(minibatch_arr[1]))\n",
    "ax[1].plot(range(epoch_arr_0[0]), loss_arr_valid_0[0], label='Mini-batch: %s' % str(minibatch_arr[0]))\n",
    "ax[1].legend()\n",
    "ax[1].set_xlabel('Epoch')\n",
    "ax[1].set_ylabel('Loss')\n",
    "ax[1].set_title('Total Loss per Epoch - Validation Set')\n",
    "plt.show()"
   ]
  },
  {
   "cell_type": "code",
   "execution_count": null,
   "metadata": {
    "scrolled": true
   },
   "outputs": [],
   "source": [
    "learningrate_arr=[lr_0,lr_0,lr_0,lr_0]\n",
    "show_graphs(minibatch_arr,epoch_arr_0,learningrate_arr,loss_arr_0)"
   ]
  },
  {
   "cell_type": "markdown",
   "metadata": {},
   "source": [
    "### We obtain a better accuracy when we choose a smaller Mini-Batch size. "
   ]
  },
  {
   "cell_type": "code",
   "execution_count": null,
   "metadata": {},
   "outputs": [],
   "source": []
  },
  {
   "cell_type": "markdown",
   "metadata": {},
   "source": [
    "## * Changing Learning-Rate:"
   ]
  },
  {
   "cell_type": "markdown",
   "metadata": {},
   "source": [
    "### With different Learning Rates, Epoch=100, Minibath size=50:"
   ]
  },
  {
   "cell_type": "code",
   "execution_count": null,
   "metadata": {},
   "outputs": [],
   "source": [
    "x_ds=x_train\n",
    "y_ds=y_train\n",
    "x_valid_ds=x_valid\n",
    "y_valid_ds=y_valid"
   ]
  },
  {
   "cell_type": "code",
   "execution_count": null,
   "metadata": {},
   "outputs": [],
   "source": [
    "lr_arr_1=[] #learning rate array.\n",
    "loss_arr_1=[]   #training loss array\n",
    "loss_arr_valid_1=[] #valid loss array\n",
    "epoch_arr_1=[] #epoch array (save the epoch used on each mini-batch)\n",
    "acc_arr_1=[] # accuracy with validation set array \n",
    "epoch_1=50  #total epoch \n",
    "mb=50\n",
    "for i, learningrate in enumerate([0.1,0.01,0.001]):\n",
    "    loss_array,loss_array_valid,acc_valid,nn_model=hyperparameter_checking(x_ds,y_ds,x_valid_ds,y_valid_ds,epoch_1,mb,learningrate)\n",
    "    loss_arr_1.append(loss_array)\n",
    "    loss_arr_valid_1.append(loss_array_valid)\n",
    "    epoch_arr_1.append(epoch_1)\n",
    "    acc_arr_1.append(acc_valid)\n",
    "    print('Accuracy: %s' % str(acc_valid))"
   ]
  },
  {
   "cell_type": "code",
   "execution_count": null,
   "metadata": {},
   "outputs": [],
   "source": [
    "learningrate_arr=[0.1,0.01,0.001]\n",
    "fig, ax = plt.subplots(1,3,figsize=(18, 5))\n",
    "# plt.xlabel('Epoch')\n",
    "ax[2].plot(learningrate_arr, acc_arr_1, markevery=1)\n",
    "ax[2].set_xlabel('Learning Rate')\n",
    "ax[2].set_ylabel('Accuracy')\n",
    "ax[2].set_title('Accuracy with different Learning Rate')\n",
    "ax[2].grid(True)\n",
    "ax[0].plot(range(epoch_arr_1[2]), loss_arr_1[2], label='Learning Rate: %s' % str(learningrate_arr[2]))\n",
    "ax[0].plot(range(epoch_arr_1[1]), loss_arr_1[1], label='Learning Rate: %s' % str(learningrate_arr[1]))\n",
    "ax[0].plot(range(epoch_arr_1[0]), loss_arr_1[0], label='Learning Rate: %s' % str(learningrate_arr[0]))\n",
    "ax[0].legend()\n",
    "ax[0].set_xlabel('Epoch')\n",
    "ax[0].set_ylabel('Loss')\n",
    "ax[0].set_title('Total Loss per Epoch - Training Set')\n",
    "ax[1].plot(range(epoch_arr_1[2]), loss_arr_valid_1[2], label='Learning Rate: %s' % str(learningrate_arr[2]))\n",
    "ax[1].plot(range(epoch_arr_1[1]), loss_arr_valid_1[1], label='Learning Rate: %s' % str(learningrate_arr[1]))\n",
    "ax[1].plot(range(epoch_arr_1[0]), loss_arr_valid_1[0], label='Learning Rate: %s' % str(learningrate_arr[0]))\n",
    "ax[1].legend()\n",
    "ax[1].set_xlabel('Epoch')\n",
    "ax[1].set_ylabel('Loss')\n",
    "ax[1].set_title('Total Loss per Epoch - Validation Set')\n",
    "plt.show()"
   ]
  },
  {
   "cell_type": "code",
   "execution_count": null,
   "metadata": {
    "scrolled": true
   },
   "outputs": [],
   "source": [
    "minibatch_arr=[50,50,50]\n",
    "show_graphs(minibatch_arr,epoch_arr_1,learningrate_arr,loss_arr_1)"
   ]
  },
  {
   "cell_type": "markdown",
   "metadata": {},
   "source": [
    "### We get a better accuracy if we choose a  lower learning rate. "
   ]
  },
  {
   "cell_type": "code",
   "execution_count": null,
   "metadata": {},
   "outputs": [],
   "source": []
  },
  {
   "cell_type": "markdown",
   "metadata": {},
   "source": [
    "## * Changing Epochs:"
   ]
  },
  {
   "cell_type": "markdown",
   "metadata": {},
   "source": [
    "### With different Epochs, Learning Rates=0.1, Minibath size=50:"
   ]
  },
  {
   "cell_type": "code",
   "execution_count": null,
   "metadata": {},
   "outputs": [],
   "source": [
    "x_ds=x_train\n",
    "y_ds=y_train\n",
    "x_valid_ds=x_valid\n",
    "y_valid_ds=y_valid"
   ]
  },
  {
   "cell_type": "code",
   "execution_count": null,
   "metadata": {},
   "outputs": [],
   "source": [
    "lr_arr_2=[] #learning rate array.\n",
    "loss_arr_2=[]   #training loss array\n",
    "loss_arr_valid_2=[] #valid loss array\n",
    "epoch_arr_2=[] #epoch array (save the epoch used on each mini-batch)\n",
    "acc_arr_2=[] # accuracy with validation set array \n",
    "learning_rate=0.1\n",
    "mb=50\n",
    "for i, epochs in enumerate([30,50,80,100]):\n",
    "    loss_array,loss_array_valid,acc_valid,nn_model=hyperparameter_checking(x_ds,y_ds,x_valid_ds,y_valid_ds,epochs,mb,learning_rate)\n",
    "    loss_arr_2.append(loss_array)\n",
    "    loss_arr_valid_2.append(loss_array_valid)\n",
    "    epoch_arr_2.append(epochs)\n",
    "    acc_arr_2.append(acc_valid)\n",
    "    print('Accuracy: %s' % str(acc_valid))"
   ]
  },
  {
   "cell_type": "code",
   "execution_count": null,
   "metadata": {},
   "outputs": [],
   "source": [
    "epochs_arr=[30,50,80,100]\n",
    "fig, ax = plt.subplots(1,3,figsize=(18, 5))\n",
    "# plt.xlabel('Epoch')\n",
    "ax[2].plot(epochs_arr, acc_arr_2, markevery=1)\n",
    "ax[2].set_xlabel('Epoch')\n",
    "ax[2].set_ylabel('Accuracy')\n",
    "ax[2].set_title('Accuracy with different Epochs')\n",
    "ax[2].grid(True)\n",
    "ax[0].plot(range(epoch_arr_2[3]), loss_arr_2[3], label='Epoch: %s' % str(epochs_arr[3]))\n",
    "ax[0].plot(range(epoch_arr_2[2]), loss_arr_2[2], label='Epoch: %s' % str(epochs_arr[2]))\n",
    "ax[0].plot(range(epoch_arr_2[1]), loss_arr_2[1], label='Epoch: %s' % str(epochs_arr[1]))\n",
    "ax[0].plot(range(epoch_arr_2[0]), loss_arr_2[0], label='Epoch: %s' % str(epochs_arr[0]))\n",
    "ax[0].legend()\n",
    "ax[0].set_xlabel('Epoch')\n",
    "ax[0].set_ylabel('Loss')\n",
    "ax[0].set_title('Total Loss per Epoch - Training Set')\n",
    "ax[1].plot(range(epoch_arr_2[3]), loss_arr_valid_2[3], label='Epoch: %s' % str(epochs_arr[3]))\n",
    "ax[1].plot(range(epoch_arr_2[2]), loss_arr_valid_2[2], label='Epoch: %s' % str(epochs_arr[2]))\n",
    "ax[1].plot(range(epoch_arr_2[1]), loss_arr_valid_2[1], label='Epoch: %s' % str(epochs_arr[1]))\n",
    "ax[1].plot(range(epoch_arr_2[0]), loss_arr_valid_2[0], label='Epoch: %s' % str(epochs_arr[0]))\n",
    "ax[1].legend()\n",
    "ax[1].set_xlabel('Epoch')\n",
    "ax[1].set_ylabel('Loss')\n",
    "ax[1].set_title('Total Loss per Epoch - Validation Set')\n",
    "plt.show()"
   ]
  },
  {
   "cell_type": "code",
   "execution_count": null,
   "metadata": {
    "scrolled": true
   },
   "outputs": [],
   "source": [
    "minibatch_arr=[50,50,50,50]\n",
    "show_graphs(minibatch_arr,epoch_arr_1,learningrate_arr,loss_arr_1)"
   ]
  },
  {
   "cell_type": "markdown",
   "metadata": {},
   "source": [
    "### The best Accuracy was found with Epoch=80"
   ]
  },
  {
   "cell_type": "markdown",
   "metadata": {},
   "source": [
    "### The best hyperparameters to train the model are Mini-batch size: 50 and Learning Rate: 0.1 and Epoch:80"
   ]
  },
  {
   "cell_type": "markdown",
   "metadata": {},
   "source": [
    "## Training the model:"
   ]
  },
  {
   "cell_type": "markdown",
   "metadata": {},
   "source": [
    "### Training the model with Mini-batch size=50, Epoch=80 and Learning rate=0.1"
   ]
  },
  {
   "cell_type": "code",
   "execution_count": null,
   "metadata": {},
   "outputs": [],
   "source": [
    "loss_arr=[]\n",
    "epochs=80\n",
    "mb=50\n",
    "lr=1e-1\n",
    "x=x_train\n",
    "y=onehot(y_train,10)\n",
    "# input_dim, output_dim,hidden_dims,n_hidden=2,mode=',train',\n",
    "# datapath=None,model_path=None\n",
    "NN_mbatch_1= NN(784, 10, hidden_dims=(500,300),initialization='glorot')\n",
    "for epoch in range (epochs): \n",
    "    #x, y_onehot, mb_size=100, learning_rate=1e-1, weight_decay=0\n",
    "    loss_mbatch_1=NN_mbatch_1.train_mbatch(x, y, mb_size=50,learning_rate=0.1)\n",
    "    print('epoch ', epoch, ' loss ', loss_mbatch_1)"
   ]
  },
  {
   "cell_type": "markdown",
   "metadata": {},
   "source": [
    "### The accuracy obtained by the model using the training set is:"
   ]
  },
  {
   "cell_type": "code",
   "execution_count": null,
   "metadata": {},
   "outputs": [],
   "source": [
    "y_pred=NN_mbatch_1.prediction_mbatch(x_train)\n",
    "accuracy=NN_mbatch_1.accuracy_mbatch(y_pred,y_train)\n",
    "print('Accuracy: %s' % str(accuracy))"
   ]
  },
  {
   "cell_type": "markdown",
   "metadata": {},
   "source": [
    "### The accuracy obtained by the model using the testing set is:"
   ]
  },
  {
   "cell_type": "code",
   "execution_count": null,
   "metadata": {},
   "outputs": [],
   "source": [
    "y_pred_test=NN_mbatch_1.prediction_mbatch(X_test)\n",
    "accuracy=NN_mbatch_1.accuracy_mbatch(y_pred_test,Y_test)\n",
    "print('Accuracy: %s' % str(accuracy))"
   ]
  },
  {
   "cell_type": "markdown",
   "metadata": {},
   "source": [
    "# ============================================================================================="
   ]
  }
 ],
 "metadata": {
  "kernelspec": {
   "display_name": "Python 3",
   "language": "python",
   "name": "python3"
  },
  "language_info": {
   "codemirror_mode": {
    "name": "ipython",
    "version": 3
   },
   "file_extension": ".py",
   "mimetype": "text/x-python",
   "name": "python",
   "nbconvert_exporter": "python",
   "pygments_lexer": "ipython3",
   "version": "3.7.0"
  }
 },
 "nbformat": 4,
 "nbformat_minor": 2
}
